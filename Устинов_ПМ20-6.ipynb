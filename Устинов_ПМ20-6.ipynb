{
  "nbformat": 4,
  "nbformat_minor": 0,
  "metadata": {
    "kernelspec": {
      "display_name": "Python 3",
      "language": "python",
      "name": "python3"
    },
    "language_info": {
      "codemirror_mode": {
        "name": "ipython",
        "version": 3
      },
      "file_extension": ".py",
      "mimetype": "text/x-python",
      "name": "python",
      "nbconvert_exporter": "python",
      "pygments_lexer": "ipython3",
      "version": "3.8.3"
    },
    "colab": {
      "name": "csv_repeat.ipynb",
      "provenance": []
    }
  },
  "cells": [
    {
      "cell_type": "markdown",
      "metadata": {
        "id": "t_D4QocrtrvW"
      },
      "source": [
        "Файлы именуются в виде \"Фамилия\\_Группа\\_Вар\\_номер.ipynb\". Пример: \"Милованов\\_ПИ1-2\\_Вар\\_1.ipynb\""
      ]
    },
    {
      "cell_type": "markdown",
      "metadata": {
        "id": "1soEL4AwtrvW"
      },
      "source": [
        "Не забываем про try-except. Везде, где вы считаете, что может вылететь ошибка, вставляем try except"
      ]
    },
    {
      "cell_type": "markdown",
      "metadata": {
        "id": "AHLSdtnRtrvW"
      },
      "source": [
        "Даны файлы students.csv, results.csv, groups.csv, subjects.csv, teachers.csv. Разделены \";\"\n",
        "\n",
        "Файл groups.csv имеет столбцы id, text_name, entry_year, где id - уникиальный идентификатор группы, text_name - наименование группы, entry_year - год поступления. \n",
        "\n",
        "students.csv имеет следующие столбцы: id, first_name, last_name, group_id, где id - уникальный идентификатор студента (номер зачетной книжки), first_name - Имя, last_name - фамилия, group_id - идентификатор группы, в которой он учится.\n",
        "\n",
        "result.csv имеет следующие столбцы: id - уникальный идентификатор записи, subject_id - идентификатор учебного предмета, student_id - уникальный идентификатор студента, att1 - результат первой аттестации, att2 - результат второй аттестации, exam - результат экзаменнационной или зачетной работы, total - общий результат, teacher_id - уникальный идентификатор преподавателя.\n",
        "\n",
        "subjects.csv имеет следующие столбцы: id - уникальный идентификатор предмета, subject_name - наименование предмета.\n",
        "\n",
        "teachers.csv: id - уникальный идентификатор преподавателя, first_name - Имя, last_name - фамилия, middle_name - отчество"
      ]
    },
    {
      "cell_type": "markdown",
      "metadata": {
        "id": "H2XJun77trvW"
      },
      "source": [
        "1. Написать функцию, которая принимает id преподавателя и id группы. Функция возвращает False, если данный преподаватель не преподавал у данной группы, None, если такого прподавателя не существует, иначе возвращается словарь, в котором ключами являются наименования предметов, а значениями словари, которые хранят в себе информации о количестве студентов, сдавших на 5, 4, 3 и 2 по данному предмету.\n",
        "2. Написать функцию, которая принимает ФИО преподавателя и необязательный параметр to_json, который по умолчанию равен False и принимает имя файла. Если указан параметр to_json, то он должен сохранить итоговый результат в данный файл и вернуть значение True, иначе просто вернуть словарь. В словаре ключами являются наименования групп, в которых он преподавал, а значениям - результат выполнения первой функции.\n",
        "3. Реализовать функцию, которая принимает параметры entry_year - год поступления, subject_name - наименование предмета и необязаиельный параметр to_json, по умолчанию равный False. Функция должна возвращать словарь со статистикой по группам по данному предмету. Ключами словаря являются id группы, а значениями словари. Внутренний словарь имеет ключи group_name (наименование группы), stats (статистика). Значением ключа статистика является словарь, который возвращает количество студентов получившие оценку 5, количество студентов получившие оценку 4, количество студентов получившие оценку 3, количество студентов получившие оценку 2. Если параметр to_json указан, то сохраняет полученный словарь в указанный файл и возвращает True, иначе просто возвращает словарь."
      ]
    },
    {
      "cell_type": "markdown",
      "metadata": {
        "id": "pQIAas9ZtrvW"
      },
      "source": [
        "1. Реализовать функцию, которая по уникальному идентификатору студента возвращает его сумму баллов по каждому из контрольных мероприятий, в том числе total\n",
        "2. Реализовать функцию, которая принимает параметры thread - поток в виде (ПИ2018), где буквами является наименование направления, а число - год поступления, необязательный параметр test, который по умолчанию равен total (список возможных значений att1, att2, exam, total), а также необязательный параметр to_json=False. Если параметр указан, то результат выполнения функции должен записываться в файл и функция возвращает True, если такого потока не существует, то возвращает None, иначе возвращает результат функции. Результатом выполнения функции является словарь с рейтингом студентов по указанному из периодов в параметре test. Ключом словаря является место студента в рейтинге, значением - словарь с информацией из файла students.csv, а также информацию, которая возвращается после выполнения первой функции.\n",
        "3. Написать функцию, которая принимает  имя группы, год поступления и наименование предмета. Также функция принимает необязательный параметр to_json, который по умолчанию равен False и принимает имя файла. Функция должна вернуть словарь, которая содержит оценки всех студентов данной группы по данному предмету. Ключом является id студента, значением словарь, который содержит полное имя студента и итоговый балл.  Если to_json указывает имя файла, то сохранить результаты в файл и функция возвращает значение True, иначе возвращает получившийся словарь."
      ]
    },
    {
      "cell_type": "code",
      "metadata": {
        "id": "C2dF1mFeuJ8a"
      },
      "source": [
        "import csv"
      ],
      "execution_count": 2,
      "outputs": []
    },
    {
      "cell_type": "code",
      "metadata": {
        "id": "InMLDlkHy82R"
      },
      "source": [
        "groupByStudentId = {}\n",
        "\n",
        "with open('students1.txt') as f:\n",
        "        csv_reader = csv.reader(f, delimiter=';')\n",
        "        for row in csv_reader:\n",
        "            groupByStudentId[row[0]] = row[3]\n",
        "\n",
        "subjectById = {}\n",
        "\n",
        "with open('subjects1.txt') as f:\n",
        "        csv_reader = csv.reader(f, delimiter=';')\n",
        "        for row in csv_reader:\n",
        "            subjectById[row[0]] = row[1]\n",
        "\n",
        "groupById = {}\n",
        "\n",
        "with open('groups1.txt') as f:\n",
        "        csv_reader = csv.reader(f, delimiter=';')\n",
        "        for row in csv_reader:\n",
        "            groupById[row[0]] = row[1]\n",
        "\n",
        "groupsIdByEntryYear = {}\n",
        "\n",
        "with open('groups1.txt') as f:\n",
        "        csv_reader = csv.reader(f, delimiter=';')\n",
        "        for row in csv_reader:\n",
        "            if row[2] in groupsIdByEntryYear:\n",
        "                groupsIdByEntryYear[row[2]].append(row[0])\n",
        "            else:\n",
        "                groupsIdByEntryYear[row[2]] = [row[0]]"
      ],
      "execution_count": 56,
      "outputs": []
    },
    {
      "cell_type": "code",
      "metadata": {
        "colab": {
          "base_uri": "https://localhost:8080/"
        },
        "id": "aAnmbblG4Yll",
        "outputId": "02a58911-5fb4-46aa-b638-811a676df8f2"
      },
      "source": [
        "with open('groups1.txt') as f:\n",
        "        csv_reader = csv.reader(f, delimiter=';')\n",
        "        for row in csv_reader:\n",
        "            print(row)"
      ],
      "execution_count": 48,
      "outputs": [
        {
          "output_type": "stream",
          "text": [
            "['id', 'name', 'entry_year']\n",
            "['1', 'ПИ1-1', '2018']\n",
            "['2', 'ПИ1-2', '2018']\n",
            "['3', 'ПИ1-3', '2018']\n",
            "['4', 'ПИ1-4', '2018']\n",
            "['5', 'ПМ1-1', '2018']\n",
            "['6', 'ПМ1-2', '2018']\n",
            "['7', 'ПМ1-3', '2018']\n",
            "['8', 'ПМ1-4', '2018']\n",
            "['9', 'ПИ2-2', '2017']\n",
            "['10', 'ПМ1-5', '2018']\n",
            "['13', 'ПИ4-1', '2015']\n",
            "['14', 'ПИ4-2', '2015']\n",
            "['15', 'ПИ4-3', '2015']\n"
          ],
          "name": "stdout"
        }
      ]
    },
    {
      "cell_type": "code",
      "metadata": {
        "id": "nchVU4e5trvX"
      },
      "source": [
        "def getMark(mark):\n",
        "    mark = int(mark)\n",
        "\n",
        "    if mark >= 85:\n",
        "        return 5\n",
        "    if mark >= 70:\n",
        "        return 4\n",
        "    if mark >= 50:\n",
        "        return 3\n",
        "    return 2\n",
        "\n",
        "def findTeacher(teacherId, groupId):\n",
        "\n",
        "    teacherId = str(teacherId)\n",
        "    groupId = str(groupId)\n",
        "\n",
        "    result = {}\n",
        "    with open('teachers1.txt') as f:\n",
        "        csv_reader = csv.reader(f, delimiter=';')\n",
        "        teacherExist = False\n",
        "        for row in csv_reader:\n",
        "            if row[0] == teacherId:\n",
        "                teacherExist = True\n",
        "        if not teacherExist:\n",
        "            return None\n",
        "            # 2 6 7\n",
        "    with open('results1.txt') as f:\n",
        "        csv_reader = csv.reader(f, delimiter=';')\n",
        "        for row in csv_reader:\n",
        "            if row[3] == teacherId and groupByStudentId[row[2]] == groupId:\n",
        "                if subjectById[row[1]] in result:\n",
        "                    if getMark(row[7]) in result[subjectById[row[1]]]:\n",
        "                        result[subjectById[row[1]]][getMark(row[7])] += 1\n",
        "                    else:\n",
        "                        result[subjectById[row[1]]][getMark(row[7])] = 1\n",
        "                else:\n",
        "                    result[subjectById[row[1]]] = {}\n",
        "                    result[subjectById[row[1]]][getMark(row[7])] = 1\n",
        "    if len(result.keys()) == 0:\n",
        "        return False\n",
        "    else:\n",
        "        return result"
      ],
      "execution_count": 37,
      "outputs": []
    },
    {
      "cell_type": "code",
      "metadata": {
        "colab": {
          "base_uri": "https://localhost:8080/"
        },
        "id": "Ah6dibV103Sr",
        "outputId": "9f979e5b-19d1-494d-de82-c560897d4c32"
      },
      "source": [
        "findTeacher('7', '13')"
      ],
      "execution_count": 45,
      "outputs": [
        {
          "output_type": "execute_result",
          "data": {
            "text/plain": [
              "{'Web-программирование': {2: 8, 3: 5, 4: 4, 5: 1},\n",
              " 'Вычислительные системы и сетевые телекоммуникации': {2: 8, 3: 5, 4: 2, 5: 3},\n",
              " 'Микроэкономика': {2: 5, 3: 7, 4: 4, 5: 2}}"
            ]
          },
          "metadata": {
            "tags": []
          },
          "execution_count": 45
        }
      ]
    },
    {
      "cell_type": "code",
      "metadata": {
        "id": "kXHWThJb260i"
      },
      "source": [
        "def getTeacherInfo(teacherId, toJson = False):\n",
        "    result = {}\n",
        "    for groupKey in list(groupById.keys())[1:]:\n",
        "        if findTeacher(teacherId, groupKey):\n",
        "            result[groupById[groupKey]] = findTeacher(teacherId, groupKey)\n",
        "    if toJson:\n",
        "        with open('result.txt') as f:\n",
        "            f.write(json.dumps(result))\n",
        "        return True\n",
        "    else:\n",
        "        return result"
      ],
      "execution_count": 46,
      "outputs": []
    },
    {
      "cell_type": "code",
      "metadata": {
        "colab": {
          "base_uri": "https://localhost:8080/"
        },
        "id": "ZuxDlgTi4EwP",
        "outputId": "de654192-8bbf-4a42-8b07-593b649bcbf2"
      },
      "source": [
        "getTeacherInfo(1)"
      ],
      "execution_count": 47,
      "outputs": [
        {
          "output_type": "execute_result",
          "data": {
            "text/plain": [
              "{'ПИ1-1': {'Web-программирование': {2: 11, 3: 8, 4: 5, 5: 3},\n",
              "  'Микроэкономика': {2: 8, 3: 9, 4: 7, 5: 3},\n",
              "  'Философия': {2: 11, 3: 10, 4: 6}},\n",
              " 'ПИ1-2': {'Математический анализ': {2: 7, 3: 8, 4: 7, 5: 3},\n",
              "  'Философия': {2: 12, 3: 9, 4: 4}},\n",
              " 'ПИ1-3': {'Дискретная математика': {2: 9, 3: 8, 4: 4, 5: 5}},\n",
              " 'ПИ1-4': {'Линейная алгебра': {2: 9, 3: 10, 4: 5, 5: 2},\n",
              "  'Современные языки программирования': {2: 7, 3: 11, 4: 6, 5: 2}},\n",
              " 'ПИ4-1': {'Макроэкономика': {2: 9, 3: 3, 4: 5, 5: 1},\n",
              "  'Математический анализ': {2: 4, 3: 6, 4: 8}},\n",
              " 'ПИ4-2': {'Вычислительные системы и сетевые телекоммуникации': {2: 7,\n",
              "   3: 8,\n",
              "   4: 4},\n",
              "  'Корпоративные информационные системы': {2: 6, 3: 5, 4: 6, 5: 2}},\n",
              " 'ПИ4-3': {'Функциональное программирование': {2: 5, 3: 8, 4: 3, 5: 2}},\n",
              " 'ПМ1-1': {'Информационная безопасность': {2: 9, 3: 6, 4: 11},\n",
              "  'Корпоративные информационные системы': {2: 10, 3: 9, 4: 7}},\n",
              " 'ПМ1-2': {'Web-программирование': {2: 7, 3: 10, 4: 4, 5: 3},\n",
              "  'Вычислительные системы и сетевые телекоммуникации': {2: 12,\n",
              "   3: 5,\n",
              "   4: 6,\n",
              "   5: 1},\n",
              "  'Дискретная математика': {2: 9, 3: 10, 4: 5}},\n",
              " 'ПМ1-3': {'Алгоритмы и структуры данных': {2: 5, 3: 13, 4: 6},\n",
              "  'Базы данных': {2: 3, 3: 11, 4: 7, 5: 3},\n",
              "  'Дискретная математика': {2: 10, 3: 4, 4: 8, 5: 2},\n",
              "  'Микроэкономика': {2: 9, 3: 9, 4: 5, 5: 1},\n",
              "  'Функциональное программирование': {2: 8, 3: 7, 4: 9}},\n",
              " 'ПМ1-5': {'Английский язык': {2: 10, 3: 5, 4: 5, 5: 5}}}"
            ]
          },
          "metadata": {
            "tags": []
          },
          "execution_count": 47
        }
      ]
    },
    {
      "cell_type": "code",
      "metadata": {
        "id": "ZWmBm4dJuIS9"
      },
      "source": [
        "def getStat(entryYear, subject, toJson = False):\n",
        "\n",
        "    entryYear = str(entryYear)\n",
        "\n",
        "    result = {}\n",
        "    groups = groupsIdByEntryYear[entryYear]\n",
        "    for el in groups:\n",
        "        result[el] = {}\n",
        "        result[el]['group_name'] = groupById[el]\n",
        "        result[el]['stats'] = {}\n",
        "\n",
        "        with open('results1.txt') as f:\n",
        "            csv_reader = csv.reader(f, delimiter=';')\n",
        "            first = True\n",
        "            for row in csv_reader:\n",
        "                if first:\n",
        "                    first = False\n",
        "                    continue\n",
        "                \n",
        "                if groupByStudentId[row[2]] == el and subjectById[row[1]] == subject:\n",
        "                    if getMark(row[7]) in result[el]['stats']:\n",
        "                        result[el]['stats'][getMark(row[7])] += 1\n",
        "                    else:\n",
        "                        result[el]['stats'][getMark(row[7])] = 1\n",
        "    \n",
        "    if toJson:\n",
        "        with open('result.txt') as f:\n",
        "            f.write(json.dumps(result))\n",
        "        return True\n",
        "    else:\n",
        "        return result"
      ],
      "execution_count": 75,
      "outputs": []
    },
    {
      "cell_type": "code",
      "metadata": {
        "colab": {
          "base_uri": "https://localhost:8080/"
        },
        "id": "DIcbJC07yCcX",
        "outputId": "e3ccf138-7ea5-4a21-dbe8-991a408ba886"
      },
      "source": [
        "getStat(2018, 'Web-программирование')"
      ],
      "execution_count": 76,
      "outputs": [
        {
          "output_type": "execute_result",
          "data": {
            "text/plain": [
              "{'1': {'group_name': 'ПИ1-1', 'stats': {2: 11, 3: 8, 4: 5, 5: 3}},\n",
              " '10': {'group_name': 'ПМ1-5', 'stats': {2: 12, 3: 6, 4: 6, 5: 1}},\n",
              " '2': {'group_name': 'ПИ1-2', 'stats': {2: 9, 3: 8, 4: 7, 5: 1}},\n",
              " '3': {'group_name': 'ПИ1-3', 'stats': {2: 9, 3: 12, 4: 5}},\n",
              " '4': {'group_name': 'ПИ1-4', 'stats': {2: 8, 3: 10, 4: 8}},\n",
              " '5': {'group_name': 'ПМ1-1', 'stats': {2: 10, 3: 12, 4: 3, 5: 1}},\n",
              " '6': {'group_name': 'ПМ1-2', 'stats': {2: 7, 3: 10, 4: 4, 5: 3}},\n",
              " '7': {'group_name': 'ПМ1-3', 'stats': {2: 11, 3: 7, 4: 5, 5: 1}},\n",
              " '8': {'group_name': 'ПМ1-4', 'stats': {2: 6, 3: 12, 4: 6, 5: 1}}}"
            ]
          },
          "metadata": {
            "tags": []
          },
          "execution_count": 76
        }
      ]
    },
    {
      "cell_type": "code",
      "metadata": {
        "id": "pQAmwgq5-FfQ"
      },
      "source": [
        "def getSumByStudentId(studentId):\n",
        "\n",
        "    studentId = str(studentId)\n",
        "\n",
        "    result = [0, 0, 0, 0]\n",
        "    with open('results1.txt') as f:\n",
        "        csv_reader = csv.reader(f, delimiter=';')\n",
        "        for row in csv_reader:\n",
        "            \n",
        "            if row[2] == studentId:\n",
        "                result[0] += int(row[4])\n",
        "                result[1] += int(row[5])\n",
        "                result[2] += int(row[6])\n",
        "                result[3] += int(row[7])\n",
        "\n",
        "    return result"
      ],
      "execution_count": 77,
      "outputs": []
    },
    {
      "cell_type": "code",
      "metadata": {
        "colab": {
          "base_uri": "https://localhost:8080/"
        },
        "id": "1AVpk04f7LMs",
        "outputId": "fb45f258-617c-4895-c530-ebf1fd7cf8d1"
      },
      "source": [
        "getSumByStudentId(151301)"
      ],
      "execution_count": 81,
      "outputs": [
        {
          "output_type": "execute_result",
          "data": {
            "text/plain": [
              "[252, 279, 510, 1041]"
            ]
          },
          "metadata": {
            "tags": []
          },
          "execution_count": 81
        }
      ]
    },
    {
      "cell_type": "markdown",
      "metadata": {
        "id": "J-vb2JOs-6Sl"
      },
      "source": [
        "Написать функцию, которая принимает имя группы, год поступления и наименование предмета. Также функция принимает необязательный параметр to_json, который по умолчанию равен False и принимает имя файла. Функция должна вернуть словарь, которая содержит оценки всех студентов данной группы по данному предмету. Ключом является id студента, значением словарь, который содержит полное имя студента и итоговый балл. Если to_json указывает имя файла, то сохранить результаты в файл и функция возвращает значение True, иначе возвращает получившийся словарь."
      ]
    }
  ]
}