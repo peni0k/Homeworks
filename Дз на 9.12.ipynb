{
 "cells": [
  {
   "cell_type": "markdown",
   "metadata": {},
   "source": [
    "# Регулярные выражения. Задания"
   ]
  },
  {
   "cell_type": "markdown",
   "metadata": {},
   "source": [
    "1) Дана строка 'aaa--bbb==ccc__ddd'. Написать регулярное выражение для разбивки строки на список ['aaa','bbb','ccc','ddd']."
   ]
  },
  {
   "cell_type": "code",
   "execution_count": 36,
   "metadata": {},
   "outputs": [
    {
     "data": {
      "text/plain": [
       "['aaa', 'bbb', 'ccc', 'ddd']"
      ]
     },
     "execution_count": 36,
     "metadata": {},
     "output_type": "execute_result"
    }
   ],
   "source": [
    "import re\n",
    "s = 'aaa--bbb==ccc__ddd'\n",
    "p = re.compile(r'[abcd]{3}')\n",
    "p.findall(s)"
   ]
  },
  {
   "cell_type": "markdown",
   "metadata": {},
   "source": [
    "2) Получить первое слово из произвольной строки. Например, для 'Yesterday, All my troubles seemed so far away' должно возвращаться 'Yesterday'."
   ]
  },
  {
   "cell_type": "code",
   "execution_count": 3,
   "metadata": {},
   "outputs": [
    {
     "name": "stdout",
     "output_type": "stream",
     "text": [
      "xcvxcv svweds\n",
      "['xcvxcv']\n"
     ]
    }
   ],
   "source": [
    "s = input()\n",
    "p = re.compile(r'^[a-zA-Z]+\\b')\n",
    "print(p.findall(s))"
   ]
  },
  {
   "cell_type": "markdown",
   "metadata": {},
   "source": [
    "3) Получить последнее слово из произвольной строки."
   ]
  },
  {
   "cell_type": "code",
   "execution_count": 6,
   "metadata": {},
   "outputs": [
    {
     "name": "stdout",
     "output_type": "stream",
     "text": [
      "gesg segseg\n"
     ]
    },
    {
     "data": {
      "text/plain": [
       "['segseg']"
      ]
     },
     "execution_count": 6,
     "metadata": {},
     "output_type": "execute_result"
    }
   ],
   "source": [
    "s = input()\n",
    "p = re.compile(r'[a-zA-Z]+\\b$')\n",
    "p.findall(s)\n"
   ]
  },
  {
   "cell_type": "markdown",
   "metadata": {},
   "source": [
    "4) В следующем отрывке найти все слова, которые начинаются на гласную букву:"
   ]
  },
  {
   "cell_type": "code",
   "execution_count": 7,
   "metadata": {},
   "outputs": [],
   "source": [
    "s= '''My uncle -- high ideals inspire him;\n",
    "but when past joking he fell sick,\n",
    "he really forced one to admire him --\n",
    "and never played a shrewder trick.\n",
    "Let others learn from his example!\n",
    "But God, how deadly dull to sample\n",
    "sickroom attendance night and day\n",
    "and never stir a foot away!'''"
   ]
  },
  {
   "cell_type": "code",
   "execution_count": 48,
   "metadata": {},
   "outputs": [
    {
     "name": "stdout",
     "output_type": "stream",
     "text": [
      "['uncle', 'ideals', 'inspire', 'one', 'admire', 'and', 'others', 'example', 'attendance', 'and', 'and', 'away']\n"
     ]
    }
   ],
   "source": [
    "p = re.findall(r'\\b[aeiouAEIOU]\\w+', s)\n",
    "print(p)"
   ]
  },
  {
   "cell_type": "markdown",
   "metadata": {},
   "source": [
    "5) В этом же отрывке найти первое слово каждой строки"
   ]
  },
  {
   "cell_type": "code",
   "execution_count": 50,
   "metadata": {},
   "outputs": [
    {
     "name": "stdout",
     "output_type": "stream",
     "text": [
      "['My', 'but', 'he', 'and', 'Let', 'But', 'sickroom', 'and']\n"
     ]
    }
   ],
   "source": [
    "p = re.compile(r'^[a-zA-Z]+\\b', re.M)\n",
    "print(p.findall(s))"
   ]
  },
  {
   "cell_type": "markdown",
   "metadata": {},
   "source": [
    "6) Проверить корректность введенного E-mail"
   ]
  },
  {
   "cell_type": "code",
   "execution_count": 64,
   "metadata": {},
   "outputs": [
    {
     "name": "stdout",
     "output_type": "stream",
     "text": [
      "kirillus@mail.ru\n",
      "['kirillus@mail.ru']\n"
     ]
    }
   ],
   "source": [
    "email = input()\n",
    "p = re.findall(r'\\w+@\\w+\\.\\w+', email)\n",
    "if len(p)== False:\n",
    "    print(\"Incorrect form\")\n",
    "else:\n",
    "    print(p)"
   ]
  },
  {
   "cell_type": "markdown",
   "metadata": {},
   "source": [
    "7) В следующей строке найти все email-адреса и вывести только доменные имена"
   ]
  },
  {
   "cell_type": "code",
   "execution_count": 3,
   "metadata": {},
   "outputs": [
    {
     "name": "stdout",
     "output_type": "stream",
     "text": [
      "kirillus@mail.ru kirillus@mail.ru kirillus@mail.ru\n",
      "['@mail.ru', '@mail.ru', '@mail.ru']\n"
     ]
    }
   ],
   "source": [
    "emails = input()\n",
    "p = re.findall(r'@\\w+\\.\\w+', emails)\n",
    "print(p) \n",
    "r'^\\+7[\\d\\\" \"\\-]]{4,14}\\d$'"
   ]
  },
  {
   "cell_type": "markdown",
   "metadata": {},
   "source": [
    "8) Проверить корректность введенного номера мобильного телефона. Корректными считаются: <br>\n",
    "+7(999)999-99-99  <br>\n",
    "+7 (999) 999-99-99  <br>\n",
    "+7 999 999-99-99 <br>\n",
    "+7 999 999 99 99 <br>\n",
    "+79999999999"
   ]
  },
  {
   "cell_type": "code",
   "execution_count": 49,
   "metadata": {},
   "outputs": [
    {
     "name": "stdout",
     "output_type": "stream",
     "text": [
      "+7 (999) 999-99-99\n",
      "['+7 (999) 999-99-99']\n"
     ]
    }
   ],
   "source": [
    "number = input()\n",
    "p = re.findall(r'\\+7[\\d\\(\\)\\ -]{4,14}\\d\\d$',number)\n",
    "if len(p)== False:\n",
    "    print(\"Incorrect form\")\n",
    "else:\n",
    "    print(p)"
   ]
  }
 ],
 "metadata": {
  "kernelspec": {
   "display_name": "Python 3",
   "language": "python",
   "name": "python3"
  },
  "language_info": {
   "codemirror_mode": {
    "name": "ipython",
    "version": 3
   },
   "file_extension": ".py",
   "mimetype": "text/x-python",
   "name": "python",
   "nbconvert_exporter": "python",
   "pygments_lexer": "ipython3",
   "version": "3.8.5"
  }
 },
 "nbformat": 4,
 "nbformat_minor": 2
}
