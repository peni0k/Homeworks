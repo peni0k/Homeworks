{
 "cells": [
  {
   "cell_type": "code",
   "execution_count": 16,
   "metadata": {},
   "outputs": [],
   "source": [
    "import requests\n",
    "import pprint\n",
    "from bs4 import BeautifulSoup\n",
    "base_url = 'https://kinoteatr.ru'\n",
    "r = requests.get(f'{base_url}/raspisanie-kinoteatrov/')\n",
    "soap = BeautifulSoup(r.text, 'lxml')\n",
    "cinemas = []\n",
    "for i in soap.findAll('div', class_='col-md-12 cinema_card'):\n",
    "    name = i.find('h3').text.strip()\n",
    "    href = i.find('a')['href'].strip()\n",
    "    address = i.findAll('span', class_= 'sub_title')[0].text.strip()\n",
    "    cinemas.append({\n",
    "        'name': name,\n",
    "        'href': href,\n",
    "        'address': address\n",
    "    })"
   ]
  },
  {
   "cell_type": "code",
   "execution_count": null,
   "metadata": {},
   "outputs": [],
   "source": [
    "films_info = []\n",
    "allcinemas = {}\n",
    "for ind, cinema in enumerate(cinemas):\n",
    "    r = requests.get(cinema['href'])\n",
    "    soap = BeautifulSoup(r.text, 'lxml')\n",
    "    film_discribe = [] \n",
    "    for film in soap.findAll('div', class_='shedule_movie bordered gtm_movie'):\n",
    "        film_info = {\n",
    "                'name': film['data-gtm-list-item-filmname'],\n",
    "                'href': film.find('a', class_='gtm-ec-list-item-movie')['href'],\n",
    "                'format': film['data-gtm-format'],\n",
    "                'genre': film['data-gtm-list-item-genre'],\n",
    "                'raiting_sub': film.findAll('i', class_='raiting_sub')[0\n",
    "                                                                      ].text.strip(),\n",
    "                'time' : []\n",
    "            }\n",
    "        for time in film.findAll('a', class_=\"shedule_session\"):\n",
    "                film_info[\"time\"].append(time.find('span', class_='shedule_session_time').text.strip())\n",
    "                film_discribe.append(film_info)    \n",
    "        allcinemas[cinema['name']] = film_discribe\n",
    "pprint.pprint(allcinemas)"
   ]
  },
  {
   "cell_type": "code",
   "execution_count": null,
   "metadata": {},
   "outputs": [],
   "source": []
  }
 ],
 "metadata": {
  "kernelspec": {
   "display_name": "Python 3",
   "language": "python",
   "name": "python3"
  },
  "language_info": {
   "codemirror_mode": {
    "name": "ipython",
    "version": 3
   },
   "file_extension": ".py",
   "mimetype": "text/x-python",
   "name": "python",
   "nbconvert_exporter": "python",
   "pygments_lexer": "ipython3",
   "version": "3.8.5"
  }
 },
 "nbformat": 4,
 "nbformat_minor": 4
}
